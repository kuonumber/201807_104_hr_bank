{
 "cells": [
  {
   "cell_type": "code",
   "execution_count": 1,
   "metadata": {},
   "outputs": [],
   "source": [
    "import pandas as pd\n",
    "import json\n",
    "import requests\n",
    "import zlib"
   ]
  },
  {
   "cell_type": "code",
   "execution_count": null,
   "metadata": {},
   "outputs": [],
   "source": [
    "pd.read_csv('./category/department.csv')"
   ]
  },
  {
   "cell_type": "code",
   "execution_count": null,
   "metadata": {},
   "outputs": [],
   "source": [
    "pd.read_csv('./category/district.csv',error_bad_lines=False)"
   ]
  },
  {
   "cell_type": "code",
   "execution_count": null,
   "metadata": {},
   "outputs": [],
   "source": [
    "pd.read_csv('./category/industry.csv')"
   ]
  },
  {
   "cell_type": "code",
   "execution_count": null,
   "metadata": {},
   "outputs": [],
   "source": [
    "pd.read_csv('./category/job_category.csv')"
   ]
  },
  {
   "cell_type": "code",
   "execution_count": null,
   "metadata": {},
   "outputs": [],
   "source": [
    "# json.loads('./company.json')"
   ]
  },
  {
   "cell_type": "markdown",
   "metadata": {},
   "source": [
    "# 工作描述清理"
   ]
  },
  {
   "cell_type": "code",
   "execution_count": 28,
   "metadata": {},
   "outputs": [],
   "source": [
    "# s = ! sed -n 1,2p job.json"
   ]
  },
  {
   "cell_type": "code",
   "execution_count": 4,
   "metadata": {},
   "outputs": [],
   "source": [
    "job_desc = ! cat job.json"
   ]
  },
  {
   "cell_type": "code",
   "execution_count": 119,
   "metadata": {
    "collapsed": true
   },
   "outputs": [
    {
     "data": {
      "text/plain": [
       "{'addr_no': 6001001009,\n",
       " 'custno': 'f436e605-a527-4409-93de-bc4bf561e15d',\n",
       " 'description': '協助芳療師各項美容美體課程順利進行。',\n",
       " 'edu': 63,\n",
       " 'exp_jobcat1': '0',\n",
       " 'exp_jobcat2': '0',\n",
       " 'exp_jobcat3': '0',\n",
       " 'industry': '1009005002',\n",
       " 'job': '助理芳療師(台北)',\n",
       " 'jobcat1': '2006003008',\n",
       " 'jobcat2': '0',\n",
       " 'jobcat3': '0',\n",
       " 'jobno': '10377578',\n",
       " 'language1': 1111,\n",
       " 'language2': 1111,\n",
       " 'language3': 1111,\n",
       " 'major_cat': '0',\n",
       " 'major_cat2': '0',\n",
       " 'major_cat3': '0',\n",
       " 'need_emp': 5,\n",
       " 'need_emp1': 10,\n",
       " 'period': -1,\n",
       " 'role': 1,\n",
       " 'role_status': 2159,\n",
       " 's2': 0,\n",
       " 's3': 0,\n",
       " 's9': 1,\n",
       " 'salary_high': 42,\n",
       " 'salary_low': 25,\n",
       " 'startby': 3,\n",
       " 'worktime': '依公司規定'}"
      ]
     },
     "execution_count": 119,
     "metadata": {},
     "output_type": "execute_result"
    }
   ],
   "source": [
    "json.loads(job_desc[570])"
   ]
  },
  {
   "cell_type": "code",
   "execution_count": 5,
   "metadata": {},
   "outputs": [
    {
     "data": {
      "text/plain": [
       "459754"
      ]
     },
     "execution_count": 5,
     "metadata": {},
     "output_type": "execute_result"
    }
   ],
   "source": [
    "len(job_desc)"
   ]
  },
  {
   "cell_type": "code",
   "execution_count": 8,
   "metadata": {},
   "outputs": [],
   "source": [
    "list_correct_parsed_lines = []\n",
    "list_wrong_parsed_lines = []\n",
    "for json_line in job_desc:\n",
    "    try:\n",
    "        list_correct_parsed_lines.append(json.loads(json_line))           \n",
    "    except:\n",
    "#         print(json_line)\n",
    "        list_wrong_parsed_lines.append(json_line)"
   ]
  },
  {
   "cell_type": "code",
   "execution_count": 9,
   "metadata": {},
   "outputs": [
    {
     "data": {
      "text/plain": [
       "458348"
      ]
     },
     "execution_count": 9,
     "metadata": {},
     "output_type": "execute_result"
    }
   ],
   "source": [
    "len(list_correct_parsed_lines)"
   ]
  },
  {
   "cell_type": "code",
   "execution_count": 10,
   "metadata": {},
   "outputs": [
    {
     "data": {
      "text/plain": [
       "1406"
      ]
     },
     "execution_count": 10,
     "metadata": {},
     "output_type": "execute_result"
    }
   ],
   "source": [
    "len(list_wrong_parsed_lines)"
   ]
  },
  {
   "cell_type": "code",
   "execution_count": 11,
   "metadata": {},
   "outputs": [],
   "source": [
    "bad_string = list_wrong_parsed_lines[0]\n"
   ]
  },
  {
   "cell_type": "code",
   "execution_count": 12,
   "metadata": {},
   "outputs": [
    {
     "data": {
      "text/plain": [
       "'{\"custno\":\"44ff30e0-0372-4cc8-9cad-bf3a76e2c905\",\"jobno\":\"10162946\",\"job\":\"手機平台直播主（多元選擇）\",\"jobcat1\":\"2013002004\",\"jobcat2\":\"2013002005\",\"jobcat3\":\"2013002013\",\"edu\":63,\"salary_low\":3001,\"salary_high\":20001,\"role\":2,\"language1\":182228,\"language2\":14444,\"language3\":1111,\"period\":-1,\"major_cat\":\"0\",\"major_cat2\":\"0\",\"major_cat3\":\"0\",\"industry\":\"1006003001\",\"worktime\":\"依公司規定\",\"role_status\":3183,\"s2\":0,\"s3\":0,\"addr_no\":6001001005,\"s9\":15,\"need_emp\":0,\"need_emp1\":0,\"startby\":3,\"exp_jobcat1\":\"2013002004\",\"exp_jobcat2\":\"2013002005\",\"exp_jobcat3\":\"2013002013\",\"description\":\"表演慾旺盛的您，渴望找到能讓您發光發熱的舞台嗎？\\\\r\\\\n對娛樂產業有想法的您，需要伯樂看見您這匹千里馬嗎'"
      ]
     },
     "execution_count": 12,
     "metadata": {},
     "output_type": "execute_result"
    }
   ],
   "source": [
    "bad_string"
   ]
  },
  {
   "cell_type": "code",
   "execution_count": 13,
   "metadata": {},
   "outputs": [],
   "source": [
    "fixed_string = bad_string + '\"}'"
   ]
  },
  {
   "cell_type": "code",
   "execution_count": 14,
   "metadata": {},
   "outputs": [
    {
     "data": {
      "text/plain": [
       "'{\"custno\":\"44ff30e0-0372-4cc8-9cad-bf3a76e2c905\",\"jobno\":\"10162946\",\"job\":\"手機平台直播主（多元選擇）\",\"jobcat1\":\"2013002004\",\"jobcat2\":\"2013002005\",\"jobcat3\":\"2013002013\",\"edu\":63,\"salary_low\":3001,\"salary_high\":20001,\"role\":2,\"language1\":182228,\"language2\":14444,\"language3\":1111,\"period\":-1,\"major_cat\":\"0\",\"major_cat2\":\"0\",\"major_cat3\":\"0\",\"industry\":\"1006003001\",\"worktime\":\"依公司規定\",\"role_status\":3183,\"s2\":0,\"s3\":0,\"addr_no\":6001001005,\"s9\":15,\"need_emp\":0,\"need_emp1\":0,\"startby\":3,\"exp_jobcat1\":\"2013002004\",\"exp_jobcat2\":\"2013002005\",\"exp_jobcat3\":\"2013002013\",\"description\":\"表演慾旺盛的您，渴望找到能讓您發光發熱的舞台嗎？\\\\r\\\\n對娛樂產業有想法的您，需要伯樂看見您這匹千里馬嗎\"}'"
      ]
     },
     "execution_count": 14,
     "metadata": {},
     "output_type": "execute_result"
    }
   ],
   "source": [
    "fixed_string"
   ]
  },
  {
   "cell_type": "code",
   "execution_count": 15,
   "metadata": {
    "collapsed": true
   },
   "outputs": [
    {
     "data": {
      "text/plain": [
       "{'addr_no': 6001001005,\n",
       " 'custno': '44ff30e0-0372-4cc8-9cad-bf3a76e2c905',\n",
       " 'description': '表演慾旺盛的您，渴望找到能讓您發光發熱的舞台嗎？\\r\\n對娛樂產業有想法的您，需要伯樂看見您這匹千里馬嗎',\n",
       " 'edu': 63,\n",
       " 'exp_jobcat1': '2013002004',\n",
       " 'exp_jobcat2': '2013002005',\n",
       " 'exp_jobcat3': '2013002013',\n",
       " 'industry': '1006003001',\n",
       " 'job': '手機平台直播主（多元選擇）',\n",
       " 'jobcat1': '2013002004',\n",
       " 'jobcat2': '2013002005',\n",
       " 'jobcat3': '2013002013',\n",
       " 'jobno': '10162946',\n",
       " 'language1': 182228,\n",
       " 'language2': 14444,\n",
       " 'language3': 1111,\n",
       " 'major_cat': '0',\n",
       " 'major_cat2': '0',\n",
       " 'major_cat3': '0',\n",
       " 'need_emp': 0,\n",
       " 'need_emp1': 0,\n",
       " 'period': -1,\n",
       " 'role': 2,\n",
       " 'role_status': 3183,\n",
       " 's2': 0,\n",
       " 's3': 0,\n",
       " 's9': 15,\n",
       " 'salary_high': 20001,\n",
       " 'salary_low': 3001,\n",
       " 'startby': 3,\n",
       " 'worktime': '依公司規定'}"
      ]
     },
     "execution_count": 15,
     "metadata": {},
     "output_type": "execute_result"
    }
   ],
   "source": [
    "json.loads(fixed_string)"
   ]
  },
  {
   "cell_type": "code",
   "execution_count": 33,
   "metadata": {
    "collapsed": true
   },
   "outputs": [
    {
     "data": {
      "text/plain": [
       "['{\"custno\":\"44ff30e0-0372-4cc8-9cad-bf3a76e2c905\",\"jobno\":\"10162946\",\"job\":\"手機平台直播主（多元選擇）\",\"jobcat1\":\"2013002004\",\"jobcat2\":\"2013002005\",\"jobcat3\":\"2013002013\",\"edu\":63,\"salary_low\":3001,\"salary_high\":20001,\"role\":2,\"language1\":182228,\"language2\":14444,\"language3\":1111,\"period\":-1,\"major_cat\":\"0\",\"major_cat2\":\"0\",\"major_cat3\":\"0\",\"industry\":\"1006003001\",\"worktime\":\"依公司規定\",\"role_status\":3183,\"s2\":0,\"s3\":0,\"addr_no\":6001001005,\"s9\":15,\"need_emp\":0,\"need_emp1\":0,\"startby\":3,\"exp_jobcat1\":\"2013002004\",\"exp_jobcat2\":\"2013002005\",\"exp_jobcat3\":\"2013002013\",\"description\":\"表演慾旺盛的您，渴望找到能讓您發光發熱的舞台嗎？\\\\r\\\\n對娛樂產業有想法的您，需要伯樂看見您這匹千里馬嗎',\n",
       " ' \\\\r\\\\n\\\\r\\\\n以上答案如果『是』\\\\r\\\\n那恭喜你，變形蟲國際娛樂為一間具備創意及創新的新媒體企業，擁有優秀的網路新媒體資源及專業行銷經營團隊。\\\\r\\\\n\\\\r\\\\n如果你有以下特質\\\\r\\\\n1.態度積極配合，喜愛面對人群。\\\\r\\\\n2.能堅持韌性，有自信、願意用心經營粉絲。\\\\r\\\\n3.個性活潑不怕生，有良好現場反應及應變能力。\\\\r\\\\n4.互動／表達能力佳，樂於學習。\\\\r\\\\n6.想紅卻找不到方法的人。\\\\r\\\\n7.表演慾強，渴望能夠展露天賦。\\\\r\\\\n8.願意展現您獨一無二的特質。\\\\r\\\\n9. 無經驗之新人可接受培訓 。\\\\r\\\\n10.對於娛樂產業有興趣或相關經驗者，歡迎與我們聯繫。 \\\\r\\\\n\\\\r\\\\n\\\\r\\\\n台灣／大陸  8+4合作直播平台\\\\r\\\\n薪資：純拆分／時薪300~2000＋獎金抽成\\\\r\\\\n條件：能夠達到各平台制度要求 ／ 20~50小時不等\\\\r\\\\n長期規劃：短片行銷／操作商業網紅／電視劇演員／專業直播主\\\\r\\\\n希望你會是我們想攏絡的下一位人才！！ \\\\r\\\\n\\\\r\\\\n履歷需附上個人照5~8張及臉書網址連結\\\\r\\\\n如有應徵意願 煩請將以上資料寄至公司信箱提供主管評估 就能夠更快速收到通知喔\\\\r\\\\n標題請打 XXX應徵手機直播主播(104人力銀行) \"}']"
      ]
     },
     "execution_count": 33,
     "metadata": {},
     "output_type": "execute_result"
    }
   ],
   "source": [
    "list_wrong_parsed_lines[0:2]"
   ]
  },
  {
   "cell_type": "code",
   "execution_count": 34,
   "metadata": {
    "collapsed": true
   },
   "outputs": [
    {
     "data": {
      "text/plain": [
       "['{\"custno\":\"8ae87c9d-7d21-42a4-aabb-23b5f43a7da5\",\"jobno\":\"9986807\",\"job\":\"品保專員/儲備幹部\",\"jobcat1\":\"2009003002\",\"jobcat2\":\"2009003009\",\"jobcat3\":\"2009003001\",\"edu\":56,\"salary_low\":990,\"salary_high\":990,\"role\":1,\"language1\":1111,\"language2\":1111,\"language3\":1111,\"period\":2,\"major_cat\":\"3009000000\",\"major_cat2\":\"3013000000\",\"major_cat3\":\"3007000000\",\"industry\":\"1008003004\",\"worktime\":\"依公司規定\",\"role_status\":3,\"s2\":0,\"s3\":0,\"addr_no\":6001011001,\"s9\":1,\"need_emp\":1,\"need_emp1\":2,\"startby\":4,\"exp_jobcat1\":\"0\",\"exp_jobcat2\":\"0\",\"exp_jobcat3\":\"0\",\"description\":\"1. 規劃品保流程，建立品保資料庫與文件控管 。\\\\r\\\\n2. 客戶不良品客訴即時處理與提出改善對策',\n",
       " ' 。\\\\r\\\\n3. 協助業務部處理客戶所提出產品的質量問題。\\\\r\\\\n4. 協助品質系統推行，並進行系統的稽核，以確保品質系統實施的有效性。\\\\r\\\\n5.協調品質管理之目標和活動，負責生產線產品之抽樣檢驗與測試，以解決產品品質問題。\\\\r\\\\n6.負責品質教育訓練計劃之擬定與執行。\\\\r\\\\n7.其它主管交辦事項。\",\"others\":\"1 .具生技醫療、食品原料品保經驗者佳\\\\r\\\\n2.協調能力佳,溝通能力強,能融入團隊工作者\\\\r\\\\n3 .主動,積極,負責,敏銳,需具有優質的跨部門溝通能力;有內外顧客服務至上,\\\\r\\\\n重視要求細節,工作態度佳者\\\\r\\\\n4 . 具高度工作熱忱、配合度高、抗壓性高、能配合國內外出差\\\\r\\\\n5 .有品牌品味概念,歡迎對品牌有高度熱誠之人加入\"}']"
      ]
     },
     "execution_count": 34,
     "metadata": {},
     "output_type": "execute_result"
    }
   ],
   "source": [
    "list_wrong_parsed_lines[2:4]"
   ]
  },
  {
   "cell_type": "code",
   "execution_count": 38,
   "metadata": {
    "collapsed": true
   },
   "outputs": [
    {
     "data": {
      "text/plain": [
       "['{\"custno\":\"eb78e48f-d4af-4474-be77-7fab75960d08\",\"jobno\":\"8903201\",\"job\":\"社群內容企劃\",\"jobcat1\":\"9008002000\",\"jobcat2\":\"9008003000\",\"jobcat3\":\"9008001000\",\"edu\":60,\"salary_low\":990,\"salary_high\":990,\"role\":3,\"language1\":1111,\"language2\":1111,\"language3\":1111,\"period\":3,\"major_cat\":\"0\",\"major_cat2\":\"0\",\"major_cat3\":\"0\",\"industry\":\"1001001001\",\"worktime\":\"依公司規定\",\"role_status\":0,\"s2\":2,\"s3\":0,\"addr_no\":6001001003,\"s9\":0,\"need_emp\":1,\"need_emp1\":3,\"startby\":3,\"exp_jobcat1\":\"0\",\"exp_jobcat2\":\"0\",\"exp_jobcat3\":\"0\",\"description\":\"依照企業會員顧客的喜好特性,針對網站建立與網站與業務的虛實活動整合,\\\\r\\\\n規劃市場情報企劃,以達到企業會員人數增加互動,達到銷售目標,並透過各種企業福委採購與行銷活動,提昇公司形象與定位\\\\r\\\\n\\\\r\\\\n1.熟悉 facebook、Line@、論壇等社群操作與廣告投放 \\\\r\\\\n2.社群數據分析及成效追蹤',\n",
       " '社群經營與粉絲關係維護 \\\\r\\\\n3.發想社群素材（影片、GIF等）腳本與內容，並可獨立完成後製剪輯 \\\\r\\\\n4.擅長各式影片企劃、剪接及後製作業 \\\\r\\\\n',\n",
       " '5.對美感具極高的敏銳度 \\\\r\\\\n6.影音剪輯效率高，行動力強 \\\\r\\\\n7.每天有用不完的梗，創意十足，看到什麼都能夠發想成議題 \\\\r\\\\n8.搜尋能力強，發掘網路最新趨勢 ，利用具有話題性的內容來達到大量轉發跟分享 \\\\r\\\\n9.常收看網路創意短片，並對時下流行話題敏銳度高 ',\n",
       " '協助執行影片拍攝作業',\n",
       " '\"}']"
      ]
     },
     "execution_count": 38,
     "metadata": {},
     "output_type": "execute_result"
    }
   ],
   "source": [
    "list_wrong_parsed_lines[4:9]"
   ]
  },
  {
   "cell_type": "code",
   "execution_count": 45,
   "metadata": {},
   "outputs": [],
   "source": [
    "s = list_wrong_parsed_lines[9:14]"
   ]
  },
  {
   "cell_type": "code",
   "execution_count": 85,
   "metadata": {},
   "outputs": [],
   "source": [
    "df_bad_lines = pd.DataFrame([json.loads(''.join(s))])"
   ]
  },
  {
   "cell_type": "code",
   "execution_count": 86,
   "metadata": {},
   "outputs": [],
   "source": [
    "df_correct_lines = pd.DataFrame(list_correct_parsed_lines)"
   ]
  },
  {
   "cell_type": "code",
   "execution_count": 104,
   "metadata": {},
   "outputs": [
    {
     "data": {
      "text/plain": [
       "set()"
      ]
     },
     "execution_count": 104,
     "metadata": {},
     "output_type": "execute_result"
    }
   ],
   "source": [
    "set(df_bad_lines.columns) - set(df_correct_lines.columns)\n",
    "# why..."
   ]
  },
  {
   "cell_type": "code",
   "execution_count": 102,
   "metadata": {},
   "outputs": [
    {
     "data": {
      "text/plain": [
       "Index(['addr_no', 'custno', 'description', 'edu', 'exp_jobcat1', 'exp_jobcat2',\n",
       "       'exp_jobcat3', 'industry', 'job', 'jobcat1', 'jobcat2', 'jobcat3',\n",
       "       'jobno', 'language1', 'language2', 'language3', 'major_cat',\n",
       "       'major_cat2', 'major_cat3', 'need_emp', 'need_emp1', 'others', 'period',\n",
       "       'role', 'role_status', 's2', 's3', 's9', 'salary_high', 'salary_low',\n",
       "       'startby', 'worktime'],\n",
       "      dtype='object')"
      ]
     },
     "execution_count": 102,
     "metadata": {},
     "output_type": "execute_result"
    }
   ],
   "source": [
    "df_correct_lines.columns"
   ]
  },
  {
   "cell_type": "code",
   "execution_count": 103,
   "metadata": {},
   "outputs": [
    {
     "data": {
      "text/plain": [
       "Index(['addr_no', 'custno', 'description', 'edu', 'exp_jobcat1', 'exp_jobcat2',\n",
       "       'exp_jobcat3', 'industry', 'job', 'jobcat1', 'jobcat2', 'jobcat3',\n",
       "       'jobno', 'language1', 'language2', 'language3', 'major_cat',\n",
       "       'major_cat2', 'major_cat3', 'need_emp', 'need_emp1', 'period', 'role',\n",
       "       'role_status', 's2', 's3', 's9', 'salary_high', 'salary_low', 'startby',\n",
       "       'worktime'],\n",
       "      dtype='object')"
      ]
     },
     "execution_count": 103,
     "metadata": {},
     "output_type": "execute_result"
    }
   ],
   "source": [
    "df_bad_lines.columns"
   ]
  },
  {
   "cell_type": "code",
   "execution_count": null,
   "metadata": {},
   "outputs": [],
   "source": []
  }
 ],
 "metadata": {
  "kernelspec": {
   "display_name": "python3_venv",
   "language": "python",
   "name": "venv"
  },
  "language_info": {
   "codemirror_mode": {
    "name": "ipython",
    "version": 3
   },
   "file_extension": ".py",
   "mimetype": "text/x-python",
   "name": "python",
   "nbconvert_exporter": "python",
   "pygments_lexer": "ipython3",
   "version": "3.6.4"
  }
 },
 "nbformat": 4,
 "nbformat_minor": 2
}
