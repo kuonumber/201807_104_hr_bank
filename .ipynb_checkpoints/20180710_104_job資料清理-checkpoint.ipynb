{
 "cells": [
  {
   "cell_type": "code",
   "execution_count": 7,
   "metadata": {},
   "outputs": [],
   "source": [
    "import pandas as pd\n",
    "import json\n",
    "import requests\n",
    "import zlib"
   ]
  },
  {
   "cell_type": "markdown",
   "metadata": {},
   "source": [
    "# 工作描述清理"
   ]
  },
  {
   "cell_type": "code",
   "execution_count": 1,
   "metadata": {},
   "outputs": [],
   "source": [
    "job_desc = ! cat /home/kuo/venv/黑客松/2018_104_hr_bank/job.json | sed \"s/$(echo -ne $'\\u2028')//g\""
   ]
  },
  {
   "cell_type": "code",
   "execution_count": 6,
   "metadata": {},
   "outputs": [
    {
     "data": {
      "text/plain": [
       "'{\"custno\":\"7c01228e-5bc6-479d-9b18-c95e6678a468\",\"jobno\":\"4371531\",\"job\":\"國小安親課輔老師\",\"jobcat1\":\"2016002008\",\"jobcat2\":\"2016002011\",\"jobcat3\":\"0\",\"edu\":56,\"salary_low\":990,\"salary_high\":990,\"role\":1,\"language1\":14444,\"language2\":1111,\"language3\":1111,\"period\":2,\"major_cat\":\"0\",\"major_cat2\":\"0\",\"major_cat3\":\"0\",\"industry\":\"1005001009\",\"worktime\":\"週休二日\",\"role_status\":2049,\"s2\":4,\"s3\":0,\"addr_no\":6001005004,\"s9\":1,\"need_emp\":1,\"need_emp1\":2,\"startby\":2,\"exp_jobcat1\":\"0\",\"exp_jobcat2\":\"0\",\"exp_jobcat3\":\"0\",\"description\":\"※輔導國小課業內容。\\\\r\\\\n※中、英語能力尤佳。\\\\r\\\\n需有相關課輔經驗者，無經驗者勿試。\",\"others\":\"1.提供勞健保\\\\n2.待遇優\\\\n3.需有耐心.愛心.抗壓性高/配合度佳-無誠者勿試/有安親經歷者尤佳\"}'"
      ]
     },
     "execution_count": 6,
     "metadata": {},
     "output_type": "execute_result"
    }
   ],
   "source": [
    "job_desc[0]"
   ]
  },
  {
   "cell_type": "code",
   "execution_count": 2,
   "metadata": {},
   "outputs": [
    {
     "data": {
      "text/plain": [
       "458638"
      ]
     },
     "execution_count": 2,
     "metadata": {},
     "output_type": "execute_result"
    }
   ],
   "source": [
    "len(job_desc)"
   ]
  },
  {
   "cell_type": "code",
   "execution_count": 8,
   "metadata": {},
   "outputs": [],
   "source": [
    "list_correct_parsed_lines = []\n",
    "list_wrong_parsed_lines = []\n",
    "for json_line in job_desc:\n",
    "    try:\n",
    "        list_correct_parsed_lines.append(json.loads(json_line))           \n",
    "    except:\n",
    "#         print(json_line)\n",
    "        list_wrong_parsed_lines.append(json_line)"
   ]
  },
  {
   "cell_type": "code",
   "execution_count": 9,
   "metadata": {},
   "outputs": [
    {
     "data": {
      "text/plain": [
       "458638"
      ]
     },
     "execution_count": 9,
     "metadata": {},
     "output_type": "execute_result"
    }
   ],
   "source": [
    "len(list_correct_parsed_lines)"
   ]
  },
  {
   "cell_type": "code",
   "execution_count": 10,
   "metadata": {},
   "outputs": [
    {
     "data": {
      "text/plain": [
       "0"
      ]
     },
     "execution_count": 10,
     "metadata": {},
     "output_type": "execute_result"
    }
   ],
   "source": [
    "len(list_wrong_parsed_lines)"
   ]
  },
  {
   "cell_type": "code",
   "execution_count": 11,
   "metadata": {},
   "outputs": [],
   "source": [
    "df_correct_lines = pd.DataFrame(list_correct_parsed_lines)"
   ]
  },
  {
   "cell_type": "code",
   "execution_count": 14,
   "metadata": {},
   "outputs": [
    {
     "data": {
      "text/html": [
       "<div>\n",
       "<style scoped>\n",
       "    .dataframe tbody tr th:only-of-type {\n",
       "        vertical-align: middle;\n",
       "    }\n",
       "\n",
       "    .dataframe tbody tr th {\n",
       "        vertical-align: top;\n",
       "    }\n",
       "\n",
       "    .dataframe thead th {\n",
       "        text-align: right;\n",
       "    }\n",
       "</style>\n",
       "<table border=\"1\" class=\"dataframe\">\n",
       "  <thead>\n",
       "    <tr style=\"text-align: right;\">\n",
       "      <th></th>\n",
       "      <th>addr_no</th>\n",
       "      <th>custno</th>\n",
       "      <th>description</th>\n",
       "      <th>edu</th>\n",
       "      <th>exp_jobcat1</th>\n",
       "      <th>exp_jobcat2</th>\n",
       "      <th>exp_jobcat3</th>\n",
       "      <th>industry</th>\n",
       "      <th>job</th>\n",
       "      <th>jobcat1</th>\n",
       "      <th>...</th>\n",
       "      <th>period</th>\n",
       "      <th>role</th>\n",
       "      <th>role_status</th>\n",
       "      <th>s2</th>\n",
       "      <th>s3</th>\n",
       "      <th>s9</th>\n",
       "      <th>salary_high</th>\n",
       "      <th>salary_low</th>\n",
       "      <th>startby</th>\n",
       "      <th>worktime</th>\n",
       "    </tr>\n",
       "  </thead>\n",
       "  <tbody>\n",
       "    <tr>\n",
       "      <th>0</th>\n",
       "      <td>6001005004</td>\n",
       "      <td>7c01228e-5bc6-479d-9b18-c95e6678a468</td>\n",
       "      <td>※輔導國小課業內容。\\r\\n※中、英語能力尤佳。\\r\\n需有相關課輔經驗者，無經驗者勿試。</td>\n",
       "      <td>56</td>\n",
       "      <td>0</td>\n",
       "      <td>0</td>\n",
       "      <td>0</td>\n",
       "      <td>1005001009</td>\n",
       "      <td>國小安親課輔老師</td>\n",
       "      <td>2016002008</td>\n",
       "      <td>...</td>\n",
       "      <td>2</td>\n",
       "      <td>1</td>\n",
       "      <td>2049</td>\n",
       "      <td>4</td>\n",
       "      <td>0</td>\n",
       "      <td>1</td>\n",
       "      <td>990</td>\n",
       "      <td>990</td>\n",
       "      <td>2</td>\n",
       "      <td>週休二日</td>\n",
       "    </tr>\n",
       "    <tr>\n",
       "      <th>1</th>\n",
       "      <td>6001005012</td>\n",
       "      <td>6976d5c5-26a5-467d-8c00-eec6cc569c56</td>\n",
       "      <td>環境、空汙、廢水的管理。</td>\n",
       "      <td>60</td>\n",
       "      <td>0</td>\n",
       "      <td>0</td>\n",
       "      <td>0</td>\n",
       "      <td>1002007008</td>\n",
       "      <td>環保專職人員</td>\n",
       "      <td>2009004003</td>\n",
       "      <td>...</td>\n",
       "      <td>-1</td>\n",
       "      <td>1</td>\n",
       "      <td>1</td>\n",
       "      <td>0</td>\n",
       "      <td>0</td>\n",
       "      <td>1</td>\n",
       "      <td>990</td>\n",
       "      <td>990</td>\n",
       "      <td>3</td>\n",
       "      <td>週休二日</td>\n",
       "    </tr>\n",
       "    <tr>\n",
       "      <th>2</th>\n",
       "      <td>6001005012</td>\n",
       "      <td>6976d5c5-26a5-467d-8c00-eec6cc569c56</td>\n",
       "      <td>1.負責生產線機器、設備之操作，並維持機台正常運作。\\r\\n2.進行製造現場的產品組裝、檢驗...</td>\n",
       "      <td>6</td>\n",
       "      <td>0</td>\n",
       "      <td>0</td>\n",
       "      <td>0</td>\n",
       "      <td>1002007008</td>\n",
       "      <td>現場操作人員(固定班)</td>\n",
       "      <td>2010001002</td>\n",
       "      <td>...</td>\n",
       "      <td>-1</td>\n",
       "      <td>1</td>\n",
       "      <td>3</td>\n",
       "      <td>0</td>\n",
       "      <td>0</td>\n",
       "      <td>1</td>\n",
       "      <td>990</td>\n",
       "      <td>990</td>\n",
       "      <td>3</td>\n",
       "      <td>依公司規定</td>\n",
       "    </tr>\n",
       "    <tr>\n",
       "      <th>3</th>\n",
       "      <td>6001001004</td>\n",
       "      <td>6976d5c5-26a5-467d-8c00-eec6cc569c56</td>\n",
       "      <td>1.產品銷售\\r\\n2.顧客服務\\r\\n3.商品管理\\r\\n4.開發客戶\\r\\n5.接洽業務</td>\n",
       "      <td>60</td>\n",
       "      <td>0</td>\n",
       "      <td>0</td>\n",
       "      <td>0</td>\n",
       "      <td>1002007008</td>\n",
       "      <td>業務人員(北區)</td>\n",
       "      <td>2005003004</td>\n",
       "      <td>...</td>\n",
       "      <td>-1</td>\n",
       "      <td>1</td>\n",
       "      <td>75</td>\n",
       "      <td>0</td>\n",
       "      <td>15</td>\n",
       "      <td>1</td>\n",
       "      <td>990</td>\n",
       "      <td>990</td>\n",
       "      <td>0</td>\n",
       "      <td>依公司規定</td>\n",
       "    </tr>\n",
       "    <tr>\n",
       "      <th>4</th>\n",
       "      <td>6001008007</td>\n",
       "      <td>6976d5c5-26a5-467d-8c00-eec6cc569c56</td>\n",
       "      <td>1.產品銷售\\r\\n2.顧客服務\\r\\n3.商品管理\\r\\n4.開發客戶\\r\\n5.接洽業務</td>\n",
       "      <td>60</td>\n",
       "      <td>0</td>\n",
       "      <td>0</td>\n",
       "      <td>0</td>\n",
       "      <td>1002007008</td>\n",
       "      <td>業務人員(南區)</td>\n",
       "      <td>2005003004</td>\n",
       "      <td>...</td>\n",
       "      <td>-1</td>\n",
       "      <td>1</td>\n",
       "      <td>75</td>\n",
       "      <td>0</td>\n",
       "      <td>15</td>\n",
       "      <td>1</td>\n",
       "      <td>990</td>\n",
       "      <td>990</td>\n",
       "      <td>0</td>\n",
       "      <td>依公司規定</td>\n",
       "    </tr>\n",
       "  </tbody>\n",
       "</table>\n",
       "<p>5 rows × 32 columns</p>\n",
       "</div>"
      ],
      "text/plain": [
       "      addr_no                                custno  \\\n",
       "0  6001005004  7c01228e-5bc6-479d-9b18-c95e6678a468   \n",
       "1  6001005012  6976d5c5-26a5-467d-8c00-eec6cc569c56   \n",
       "2  6001005012  6976d5c5-26a5-467d-8c00-eec6cc569c56   \n",
       "3  6001001004  6976d5c5-26a5-467d-8c00-eec6cc569c56   \n",
       "4  6001008007  6976d5c5-26a5-467d-8c00-eec6cc569c56   \n",
       "\n",
       "                                         description  edu exp_jobcat1  \\\n",
       "0      ※輔導國小課業內容。\\r\\n※中、英語能力尤佳。\\r\\n需有相關課輔經驗者，無經驗者勿試。   56           0   \n",
       "1                                       環境、空汙、廢水的管理。   60           0   \n",
       "2  1.負責生產線機器、設備之操作，並維持機台正常運作。\\r\\n2.進行製造現場的產品組裝、檢驗...    6           0   \n",
       "3     1.產品銷售\\r\\n2.顧客服務\\r\\n3.商品管理\\r\\n4.開發客戶\\r\\n5.接洽業務   60           0   \n",
       "4     1.產品銷售\\r\\n2.顧客服務\\r\\n3.商品管理\\r\\n4.開發客戶\\r\\n5.接洽業務   60           0   \n",
       "\n",
       "  exp_jobcat2 exp_jobcat3    industry          job     jobcat1    ...     \\\n",
       "0           0           0  1005001009     國小安親課輔老師  2016002008    ...      \n",
       "1           0           0  1002007008       環保專職人員  2009004003    ...      \n",
       "2           0           0  1002007008  現場操作人員(固定班)  2010001002    ...      \n",
       "3           0           0  1002007008     業務人員(北區)  2005003004    ...      \n",
       "4           0           0  1002007008     業務人員(南區)  2005003004    ...      \n",
       "\n",
       "  period role role_status  s2  s3  s9 salary_high salary_low startby  worktime  \n",
       "0      2    1        2049   4   0   1         990        990       2      週休二日  \n",
       "1     -1    1           1   0   0   1         990        990       3      週休二日  \n",
       "2     -1    1           3   0   0   1         990        990       3     依公司規定  \n",
       "3     -1    1          75   0  15   1         990        990       0     依公司規定  \n",
       "4     -1    1          75   0  15   1         990        990       0     依公司規定  \n",
       "\n",
       "[5 rows x 32 columns]"
      ]
     },
     "execution_count": 14,
     "metadata": {},
     "output_type": "execute_result"
    }
   ],
   "source": [
    "df_correct_lines[0:5]"
   ]
  },
  {
   "cell_type": "code",
   "execution_count": null,
   "metadata": {},
   "outputs": [],
   "source": []
  }
 ],
 "metadata": {
  "kernelspec": {
   "display_name": "python3_venv",
   "language": "python",
   "name": "venv"
  },
  "language_info": {
   "codemirror_mode": {
    "name": "ipython",
    "version": 3
   },
   "file_extension": ".py",
   "mimetype": "text/x-python",
   "name": "python",
   "nbconvert_exporter": "python",
   "pygments_lexer": "ipython3",
   "version": "3.6.4"
  }
 },
 "nbformat": 4,
 "nbformat_minor": 2
}
